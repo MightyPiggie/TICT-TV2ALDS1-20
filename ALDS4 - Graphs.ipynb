{
 "cells": [
  {
   "cell_type": "markdown",
   "metadata": {},
   "source": [
    "# Welkom bij Tutorial 4\n",
    "\n",
    "Dit is alweer de laatste tutorial van Algoritmiek en Datastructuren, waarin wij **grafen** gaan bestuderen. Een graaf is een datastructuur waarin nodes (die in de context van grafen ook wel **vertices** heten) aan elkaar verbonden zijn door middel van **edges**. \n",
    "\n",
    "De manier waarop er meestal over grafen geschreven wordt is al een tuple $G = (V, E)$ waarbij G de graaf is, V de *set* van nodes/vertices en E de *set* van edges. Ik schrijf hier *set* schuingedrukt, omdat dit een bekende datastructuur voor ons is: een container waarin geen dubbelen mogen zitten. \n",
    "\n",
    "Vertices zijn uiteraard een classes die data kunnen bevatten, maar ook de edges kunnen soms data bevatten. Bijvoorbeeld, in een shortest path problem (zie Reader) stellen de vertices/nodes locaties voor, en bevatten dus de naam van de locatie, en de edges verbindingen tussen deze locaties. De edges bevatten de *afstand* (bijvoorbeeld in kilometers) tussen deze locaties. \n",
    "\n",
    "Grafen zijn een zeer flexibele manier van data structuren: zolang er maar verbindingen tussen nodes en edges gelegd kunnen worden is het een valide implementatie van een graaf. Dit kan je natuurlijk op heel veel verschillende manieren doen. Laten we daar eens een paar van gaan bekijken. \n",
    "\n",
    "We gaan dit graafje maken: https://en.wikipedia.org/wiki/File:Dijkstra_Animation.gif "
   ]
  },
  {
   "cell_type": "code",
   "execution_count": 1,
   "metadata": {},
   "outputs": [],
   "source": [
    "from matplotlib import pyplot as plt\n",
    "import numpy as np\n",
    "import time\n",
    "import statistics as stats\n",
    "        "
   ]
  },
  {
   "cell_type": "code",
   "execution_count": 2,
   "metadata": {},
   "outputs": [
    {
     "name": "stdout",
     "output_type": "stream",
     "text": [
      "V: {1:start, 2:, 3:, 4:, 5:, 6:goal}\n",
      "E: {(2,4):10, (4,5):4, (1,2):4, (3,5):3, (2,3):5, (1,3):2, (4,6):11}\n"
     ]
    }
   ],
   "source": [
    "# Een zeer generieke manier om een graaf de implementeren is er \n",
    "# daarwerkelijk twee sets van te maken op basis van twee classes: \n",
    "class Vertex: \n",
    "    def __init__(self, identifier, data_, distance_ = 10000000, prev_ = None, solved_ = False ):\n",
    "        self.id = identifier\n",
    "        self.data = data_\n",
    "        self.distance = distance_\n",
    "        self.prev = prev_\n",
    "        self.solved = solved_\n",
    "        \n",
    "    def __eq__(self, other): #nodig om aan een set toe te voegen\n",
    "        return self.id == other.id\n",
    "    \n",
    "    def __hash__(self): #nodig om aan een set toe te voegen\n",
    "        return hash(self.id)\n",
    "    \n",
    "    def __repr__(self):\n",
    "        return str(self.id)+\":\"+str(self.data)\n",
    "        \n",
    "class Edge:\n",
    "    def __init__(self, vertex1, vertex2, data_):\n",
    "        if(vertex1.id<vertex2.id):\n",
    "            self.v1 = vertex1\n",
    "            self.v2 = vertex2\n",
    "        else:\n",
    "            self.v1 = vertex2\n",
    "            self.v2 = vertex1\n",
    "        self.data = data_\n",
    "        \n",
    "    def __eq__(self, other): #nodig om aan een set toe te voegen\n",
    "        return self.v1.id == other.v1.id and self.v2.id == self.v2.id\n",
    "    \n",
    "    def __hash__(self): #nodig om aan een set toe te voegen\n",
    "        return hash(str(self.v1.id)+\",\"+str(self.v2.id))\n",
    "    \n",
    "    def __repr__(self):\n",
    "        return \"(\"+str(self.v1.id)+\",\"+str(self.v2.id)+\"):\"+str(self.data)\n",
    "\n",
    "class CGraph:\n",
    "    def __init__(self):\n",
    "        self.V = set()\n",
    "        self.E = set()\n",
    "        \n",
    "    def __str__(self):\n",
    "        return \"V: \"+str(self.V)+\"\\nE: \"+str(self.E)\n",
    "            \n",
    "        \n",
    "# So, for a simple shortest path problem: \n",
    "gr = CGraph()\n",
    "v1 = Vertex(1,\"start\",distance_ = 0 )\n",
    "v2 = Vertex(2,\"\")\n",
    "v3 = Vertex(3,\"\")\n",
    "v4 = Vertex(4,\"\")\n",
    "v5 = Vertex(5,\"\")\n",
    "v6 = Vertex(6,\"goal\")\n",
    "gr.V.add(v1)\n",
    "gr.V.add(v2)\n",
    "gr.V.add(v3)\n",
    "gr.V.add(v4)\n",
    "gr.V.add(v5)\n",
    "gr.V.add(v6)\n",
    "e1 = Edge(v1,v2,4)\n",
    "e2 = Edge(v1,v3,2)\n",
    "e3 = Edge(v2,v3,5)\n",
    "e4 = Edge(v2,v4,10)\n",
    "e5 = Edge(v3,v5,3)\n",
    "e6 = Edge(v4,v6,11)\n",
    "e7 = Edge(v5,v4,4)\n",
    "gr.E.add(e1)\n",
    "gr.E.add(e2)\n",
    "gr.E.add(e3)\n",
    "gr.E.add(e4)\n",
    "gr.E.add(e5)\n",
    "gr.E.add(e6)\n",
    "gr.E.add(e7)\n",
    "print(gr)\n",
    "\n",
    "# Is dit eigenlijk al best een langdradige manier van doen..."
   ]
  },
  {
   "cell_type": "code",
   "execution_count": 3,
   "metadata": {},
   "outputs": [
    {
     "name": "stdout",
     "output_type": "stream",
     "text": [
      "{1: ('start', {2: 7, 3: 9, 6: 14}), 2: ('', {1: 7, 3: 10, 4: 15}), 3: ('', {1: 9, 2: 10, 4: 11, 6: 2}), 4: ('', {2: 15, 3: 11, 5: 6}), 5: ('goal', {4: 6, 6: 9}), 6: ('', {1: 14, 3: 2, 5: 9})}\n"
     ]
    }
   ],
   "source": [
    "#Daarom kiezen mensen er vaak voor om een graaf makkelijker te respresenteren met standaard datatypes\n",
    "#bijvoorbeeld: als we een dictionary maken met node identifiers als keys, en een tuple van (data, edges) als values\n",
    "#met edges als een dictionary met vertex ids van de verbonden vertices als keys en de data van de edge als key\n",
    "#krijgen we zoiets voor dezelfde graaf\n",
    "DGraph = dict\n",
    "gr2 = {1: (\"start\", {2:7, 3:9, 6:14}),\n",
    "       2: (\"\", {1:7, 3:10, 4:15}), \n",
    "       3: (\"\", {1:9, 2:10, 4:11, 6:2}), \n",
    "       4: (\"\", {2:15, 3:11, 5:6}), \n",
    "       5: (\"goal\", {4:6, 6:9}), \n",
    "       6: (\"\", {1:14, 3:2, 5:9})\n",
    "      }\n",
    "print(gr2)\n",
    "#Dat is makkelijker in te voeren... Maar je moet wel goed bijhouden wat ookalweer wat is. \n",
    "#Bovendien heb ik er nu wat redundantie ingezet (elke node bevat de edges waaraan het verbonden zit, dus elke \n",
    "# edge zit twee maal in deze datastructuur)"
   ]
  },
  {
   "cell_type": "markdown",
   "metadata": {},
   "source": [
    "## Opgave 1: Dijkstra\n",
    "\n",
    "Laten we eens gaan kijken hoe goed de twee mogelijke implementaties van een graaf hierboven zijn (dus die met de expliciete klasses voor Vertices en Edges, en die die de hele graaf in één dictionary gooit. \n",
    "\n",
    "Schrijf implementaties van Dijkstra's algoritme voor de beide implementaties van grafen (CGraph en DGraph). Vergelijk de snelheid van beide versies van Dijkstra's algoritme door beiden meerdere keren te runnen. Vergeet niet de standaardafwijkingen te berekenen. Is één implementatie beter dan de andere? "
   ]
  },
  {
   "cell_type": "code",
   "execution_count": 2,
   "metadata": {},
   "outputs": [
    {
     "name": "stdout",
     "output_type": "stream",
     "text": [
      "([1:start, 3:, 5:, 4:, 6:goal], 20)\n"
     ]
    }
   ],
   "source": [
    "#Schrijf hier de code voor opgave 1\n",
    "class Vertex: \n",
    "    def __init__(self, identifier, data_, distance_ = 10000000, prev_ = None, solved_ = False ):\n",
    "        self.id = identifier\n",
    "        self.data = data_\n",
    "        self.distance = distance_\n",
    "        self.prev = prev_\n",
    "        self.solved = solved_\n",
    "        \n",
    "    def __eq__(self, other): #nodig om aan een set toe te voegen\n",
    "        return self.id == other.id\n",
    "    \n",
    "    def __hash__(self): #nodig om aan een set toe te voegen\n",
    "        return hash(self.id)\n",
    "    \n",
    "    def __repr__(self):\n",
    "        return str(self.id)+\":\"+str(self.data)\n",
    "        \n",
    "class Edge:\n",
    "    def __init__(self, vertex1, vertex2, data_):\n",
    "        if(vertex1.id<vertex2.id):\n",
    "            self.v1 = vertex1\n",
    "            self.v2 = vertex2\n",
    "        else:\n",
    "            self.v1 = vertex2\n",
    "            self.v2 = vertex1\n",
    "        self.data = data_\n",
    "        \n",
    "    def __eq__(self, other): #nodig om aan een set toe te voegen\n",
    "        return self.v1.id == other.v1.id and self.v2.id == self.v2.id\n",
    "    \n",
    "    def __hash__(self): #nodig om aan een set toe te voegen\n",
    "        return hash(str(self.v1.id)+\",\"+str(self.v2.id))\n",
    "    \n",
    "    def __repr__(self):\n",
    "        return \"(\"+str(self.v1.id)+\",\"+str(self.v2.id)+\"):\"+str(self.data)\n",
    "\n",
    "class CGraph:\n",
    "    def __init__(self):\n",
    "        self.V = set()\n",
    "        self.E = set()\n",
    "        \n",
    "    def __str__(self):\n",
    "        return \"V: \"+str(self.V)+\"\\nE: \"+str(self.E)\n",
    "            \n",
    "        \n",
    "# So, for a simple shortest path problem: \n",
    "gr = CGraph()\n",
    "v1 = Vertex(1,\"start\",distance_ = 0 )\n",
    "v2 = Vertex(2,\"\")\n",
    "v3 = Vertex(3,\"\")\n",
    "v4 = Vertex(4,\"\")\n",
    "v5 = Vertex(5,\"\")\n",
    "v6 = Vertex(6,\"goal\")\n",
    "gr.V.add(v1)\n",
    "gr.V.add(v2)\n",
    "gr.V.add(v3)\n",
    "gr.V.add(v4)\n",
    "gr.V.add(v5)\n",
    "gr.V.add(v6)\n",
    "e1 = Edge(v1,v2,4)\n",
    "e2 = Edge(v1,v3,2)\n",
    "e3 = Edge(v2,v3,5)\n",
    "e4 = Edge(v2,v4,10)\n",
    "e5 = Edge(v3,v5,3)\n",
    "e6 = Edge(v4,v6,11)\n",
    "e7 = Edge(v5,v4,4)\n",
    "gr.E.add(e1)\n",
    "gr.E.add(e2)\n",
    "gr.E.add(e3)\n",
    "gr.E.add(e4)\n",
    "gr.E.add(e5)\n",
    "gr.E.add(e6)\n",
    "gr.E.add(e7)\n",
    "\n",
    "def shortest_path_func(end, shortest_path_tmp=[]):\n",
    "    if len(shortest_path_tmp) == 0:\n",
    "        shortest_path_tmp.append(end)\n",
    "    elif(shortest_path_tmp[-1].data == \"start\"):\n",
    "        return shortest_path_tmp\n",
    "    shortest_path_tmp.append(shortest_path_tmp[-1].prev)\n",
    "    return shortest_path_func(end, shortest_path_tmp )\n",
    "        \n",
    "\n",
    "def dijkstra(graph, start, end):\n",
    "    solved = []\n",
    "    queue = [start]\n",
    "\n",
    "    while queue:\n",
    "        min_distance = 10000000\n",
    "        min_distance_index = 0\n",
    "\n",
    "        for i in range(len(queue)):\n",
    "            if queue[i].distance < min_distance:\n",
    "                min_distance_index = i #set the index of the shortest distance to the index of the current vertex\n",
    "                min_distance = queue[i].distance #set the shortest distance to the distance of the current vertex\n",
    "            \n",
    "        next_node = queue[min_distance_index]\n",
    "        solved.append(next_node)\n",
    "        queue.remove(next_node)\n",
    "        next_node.solved = True\n",
    "\n",
    "        for i in graph.E:\n",
    "            if i.v1 == next_node and i.v2.solved == False:\n",
    "                if i.v2 not in queue:\n",
    "                    queue.append(i.v2)\n",
    "                current_distance = next_node.distance + i.data\n",
    "                if i.v2.distance > current_distance:\n",
    "                    i.v2.distance = current_distance\n",
    "                    i.v2.prev = next_node\n",
    "            \n",
    "            if i.v2 == next_node and i.v1.solved == False:\n",
    "                if i.v1 not in queue:\n",
    "                    queue.append(i.v1)\n",
    "                current_distance = next_node.distance + i.data\n",
    "                if i.v1.distance > current_distance:\n",
    "                    i.v1.distance = current_distance\n",
    "                    i.v1.prev = next_node\n",
    "\n",
    "    shortest_path = shortest_path_func(end)\n",
    "    shortest_path.reverse()\n",
    "\n",
    "    return shortest_path, solved[-1].distance #return the shortest path and the distance of the last vertex in the shortest path\n",
    "\n",
    "print(dijkstra(gr, v1, v6))\n",
    "\n",
    "        \n",
    "            \n",
    "\n",
    "\n",
    "            \n",
    "\n"
   ]
  },
  {
   "cell_type": "markdown",
   "metadata": {},
   "source": [
    "*Schrijf hier de tekst-antwoorden voor Opgave 1*"
   ]
  },
  {
   "cell_type": "markdown",
   "metadata": {},
   "source": [
    "## Opgave 2: Een andere implentatie?\n",
    "\n",
    "Verzin (evt. samen met je teamleden) nog een andere manier om grafen te implementeren, en schrijf vervolgens weer een bijbehorende implementatie van Dijkstra's algoritme. Is deze beter dan de vorige twee manieren? Toon dit wederom aan door metingen te doen. \n",
    "\n",
    "Ter inspiratie: kijk eens naar **adjacency lists** https://en.wikipedia.org/wiki/Adjacency_list en **adjacency matrices** https://en.wikipedia.org/wiki/Adjacency_matrix . Zou je de edges misschien (evt. per vertex) kunnen sorteren op een manier dat Dijkstra's algoritme makkelijker maakt, en zo ja, is dat computationeel de moeite waard?"
   ]
  },
  {
   "cell_type": "code",
   "execution_count": null,
   "metadata": {},
   "outputs": [],
   "source": [
    "#Schrijf hier de code voor opgave 2"
   ]
  },
  {
   "cell_type": "markdown",
   "metadata": {},
   "source": [
    "*Schrijf hier de tekst-antwoorden voor Opgave 2*"
   ]
  },
  {
   "cell_type": "markdown",
   "metadata": {},
   "source": [
    "## Ten Slotte\n",
    "\n",
    "Grafen kun je dus op heel veel verschillende manieren implementeren. Sommige manieren zijn beter dan anderen voor specifieke algoritmes. Let dus altijd goed op hoe je een graaf implementeert als je aan verschillende toepassingen denkt. \n",
    "\n",
    "Ook verschilt de implementatie uiteraard als er wel of geen data in vertices en/of edges moeten worden opgeslagen. \n",
    "\n",
    "In het tweede grote practicum, zullen we kijken naar een coordination graph. Dit is een graaf waarbij elke vertex een beslisvariabele voorstelt met een beperkt aantal mogelijke beslissingen (acties / waarden). Elke edge representeert welke lokale beloning je krijgt voor de mogelijke beslissingen voor de beslisvariabelen die dezen verbindt. Kijk bij dit practicum eerst eens goed hoe de graaf geïmplementeerd is. Mocht je daar vragen over hebben stel ze dan z.s.m. aan een van de docenten of aan de studentassistent.   "
   ]
  },
  {
   "cell_type": "code",
   "execution_count": null,
   "metadata": {},
   "outputs": [],
   "source": []
  }
 ],
 "metadata": {
  "kernelspec": {
   "display_name": "Python 3",
   "language": "python",
   "name": "python3"
  },
  "language_info": {
   "codemirror_mode": {
    "name": "ipython",
    "version": 3
   },
   "file_extension": ".py",
   "mimetype": "text/x-python",
   "name": "python",
   "nbconvert_exporter": "python",
   "pygments_lexer": "ipython3",
   "version": "3.10.8"
  },
  "vscode": {
   "interpreter": {
    "hash": "e7370f93d1d0cde622a1f8e1c04877d8463912d04d973331ad4851f04de6915a"
   }
  }
 },
 "nbformat": 4,
 "nbformat_minor": 4
}
